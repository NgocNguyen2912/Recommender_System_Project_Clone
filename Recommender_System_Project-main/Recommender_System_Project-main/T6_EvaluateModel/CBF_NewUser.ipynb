{
 "cells": [
  {
   "cell_type": "markdown",
   "metadata": {},
   "source": [
    "## ĐÁNH GIÁ HỆ THỐNG GỢI Ý"
   ]
  },
  {
   "cell_type": "markdown",
   "metadata": {},
   "source": [
    "### 2. Đánh giá hệ thống gợi ý sử dụng phương pháp Content-based và hệ thống gợi ý cho người dùng mới"
   ]
  },
  {
   "cell_type": "markdown",
   "metadata": {},
   "source": [
    "**Hệ thống gợi ý sử dụng Content-based** là hệ thống gợi ý cho user những bộ phim có cùng thể loại với bộ phim mà user đang xem, còn **hệ thống gợi ý cho người dùng mới** là hệ thống thực hiện khảo sát để nắm được sở thích của người dùng, sau đó đề xuất những bộ phim đúng sở thích ấy. Hai hệ thống gợi ý này hầu như là sử dụng dữ liệu về movies, không cần đến dữ liệu tương tác, đánh giá của user cho bộ phim."
   ]
  },
  {
   "cell_type": "markdown",
   "metadata": {},
   "source": [
    "**Về trực quan**, qua các hình ảnh demo cũng như kết quả chạy hai mô hình, ta có thể thấy rằng 2 hệ thống gợi ý đều cho kết quả tốt và khả quan: **hệ thống gợi ý sử dụng Content-based** đã đề xuất được các bộ phim cùng thể loại với bộ phim mà user đang xem và **hệ thống gợi ý cho người dùng mới** đã đưa ra được đa dạng đề xuất theo sở thích đã được khảo sát qua của người dùng."
   ]
  },
  {
   "cell_type": "markdown",
   "metadata": {},
   "source": [
    "<div> <img src=\"rcm.jpg\" style=\"width: 700px;\"/></div>"
   ]
  },
  {
   "cell_type": "markdown",
   "metadata": {},
   "source": [
    "**Về đánh giá theo metric**, vì dữ liệu hiện tại nhóm đang có là dữ liệu thu thập từ thực tế và cũng vì hai mô hình hầu như sử dụng dữ liệu từ movies, do đó nhóm không đủ ground truth để đánh giá kết quả của 2 mô hình này bằng metric. Tóm lại, việc đánh giá theo hướng này sẽ không khả thi trong tất cả các trường hợp vì không có đủ dữ liệu để phục vụ cho phần đánh giá này."
   ]
  },
  {
   "cell_type": "markdown",
   "metadata": {},
   "source": [
    "### 3. Mở rộng "
   ]
  },
  {
   "cell_type": "markdown",
   "metadata": {},
   "source": [
    "Ngoài việc đánh giá bằng các metric, ta có thể áp dụng cách đánh giá thông qua thu thập trải nghiệm người dùng\n",
    "\n",
    "Tuy nhiên, việc này yêu cầu cần phải xây dựng hệ thống có UI/UX rõ ràng, chi tiết, hoàn chỉnh và dễ hiểu để khảo sát đa dạng người với hoàn cảnh, tính cách khác nhau chứ không thể để người dùng chạy các cell code. Cho dù có xây dựng được hệ thống UI/UX thì việc tìm và tuyển nhóm trải nghiệm đòi hỏi nhiều tài nguyên. Bên cạnh đó việc phân tích phản hồi người dùng cần phải áp dụng các kĩ thuật xử lý ngôn ngữ tự nhiên và cần 1 thời gian dài để hoàn thành toàn bộ. Do vậy việc đánh giá hệ thống gợi ý theo hướng này là công việc tốn kém và không hiệu quả đối với ngữ cảnh project môn học trong 1 học kì ngắn."
   ]
  },
  {
   "cell_type": "markdown",
   "metadata": {},
   "source": [
    "Nhưng bên cạnh đó, nhóm nhận thấy rằng đây là cách đánh giá hay và hiệu quả, nếu hoàn cảnh cho phép, các thành viên trong nhóm sẽ tiếp tục nghiên cứu và hoàn thành dự án này trong tương lai."
   ]
  }
 ],
 "metadata": {
  "language_info": {
   "name": "python"
  }
 },
 "nbformat": 4,
 "nbformat_minor": 2
}
