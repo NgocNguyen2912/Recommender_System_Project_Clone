{
 "cells": [
  {
   "cell_type": "code",
   "execution_count": 1,
   "metadata": {},
   "outputs": [
    {
     "name": "stdout",
     "output_type": "stream",
     "text": [
      "Run file notebook 1\n",
      "Run file notebook 2\n"
     ]
    }
   ],
   "source": [
    "import os\n",
    "\n",
    "if __name__ == \"__main__\":\n",
    "    notebook1_path = r\"C:\\Users\\ADMIN\\Processing\\DSA-Project\\processing\\T2_StoreRData.ipynb\" \n",
    "    notebook2_path = r\"C:\\Users\\ADMIN\\Processing\\DSA-Project\\processing\\T3_PreprocessingData\\T3_PreprocessData.ipynb\"\n",
    "\n",
    "    # Set the path to your log file\n",
    "    log1_file_path = r\"C:\\Users\\ADMIN\\Processing\\DSA-Project\\processing\\log1.txt\"\n",
    "    log2_file_path = r\"C:\\Users\\ADMIN\\Processing\\DSA-Project\\processing\\log2.txt\"\n",
    "\n",
    "    # Run the Jupyter Notebook\n",
    "    print(\"Run file notebook 1\")\n",
    "    os.system(f'jupyter nbconvert --to notebook --execute {notebook1_path} >> {log1_file_path} 2>&1')\n",
    "\n",
    "    # Run the Jupyter Notebook\n",
    "    print(\"Run file notebook 2\")\n",
    "    os.system(f'jupyter nbconvert --to notebook --execute {notebook2_path} >> {log2_file_path} 2>&1')"
   ]
  }
 ],
 "metadata": {
  "kernelspec": {
   "display_name": "Python 3",
   "language": "python",
   "name": "python3"
  },
  "language_info": {
   "codemirror_mode": {
    "name": "ipython",
    "version": 3
   },
   "file_extension": ".py",
   "mimetype": "text/x-python",
   "name": "python",
   "nbconvert_exporter": "python",
   "pygments_lexer": "ipython3",
   "version": "3.9.12"
  }
 },
 "nbformat": 4,
 "nbformat_minor": 2
}
